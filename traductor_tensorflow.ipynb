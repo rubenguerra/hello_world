{
  "nbformat": 4,
  "nbformat_minor": 0,
  "metadata": {
    "colab": {
      "name": "traductor_tensorflow.ipynb",
      "provenance": [],
      "collapsed_sections": [],
      "include_colab_link": true
    },
    "kernelspec": {
      "name": "python3",
      "display_name": "Python 3"
    },
    "accelerator": "GPU"
  },
  "cells": [
    {
      "cell_type": "markdown",
      "metadata": {
        "id": "view-in-github",
        "colab_type": "text"
      },
      "source": [
        "<a href=\"https://colab.research.google.com/github/rubenguerra/hello_world/blob/master/traductor_tensorflow.ipynb\" target=\"_parent\"><img src=\"https://colab.research.google.com/assets/colab-badge.svg\" alt=\"Open In Colab\"/></a>"
      ]
    },
    {
      "cell_type": "code",
      "metadata": {
        "id": "wXjbWDYtGZZQ",
        "colab_type": "code",
        "outputId": "042770a5-5785-420d-fa4b-75c3694febac",
        "colab": {
          "base_uri": "https://localhost:8080/",
          "height": 34
        }
      },
      "source": [
        "from __future__ import absolute_import, division, print_function, unicode_literals\n",
        "\n",
        "try:\n",
        "  ##Version de tensorflow\n",
        "  %tensorflow_version 2.x\n",
        "except Exception:\n",
        "  pass\n",
        "import tensorflow as tf\n",
        "\n",
        "import matplotlib.pyplot as plt\n",
        "import matplotlib.ticker as ticker\n",
        "from sklearn.model_selection import train_test_split\n",
        "\n",
        "import unicodedata\n",
        "import re\n",
        "import numpy as np\n",
        "import os\n",
        "import io\n",
        "import time"
      ],
      "execution_count": 1,
      "outputs": [
        {
          "output_type": "stream",
          "text": [
            "TensorFlow 2.x selected.\n"
          ],
          "name": "stdout"
        }
      ]
    },
    {
      "cell_type": "code",
      "metadata": {
        "id": "IHMxkQpWHb8p",
        "colab_type": "code",
        "outputId": "01145353-9256-4391-e5fa-e07cf76504e6",
        "colab": {
          "base_uri": "https://localhost:8080/",
          "height": 51
        }
      },
      "source": [
        "#Se baja el archivo\n",
        "path_to_zip = tf.keras.utils.get_file(\n",
        "  'spa-eng.zip',\n",
        "    origin='http://storage.googleapis.com/download.tensorflow.org/data/spa-eng.zip',\n",
        "    extract=True)\n",
        "\n",
        "path_to_file = os.path.dirname(path_to_zip)+'/spa-eng/spa.txt'"
      ],
      "execution_count": 2,
      "outputs": [
        {
          "output_type": "stream",
          "text": [
            "Downloading data from http://storage.googleapis.com/download.tensorflow.org/data/spa-eng.zip\n",
            "2646016/2638744 [==============================] - 0s 0us/step\n"
          ],
          "name": "stdout"
        }
      ]
    },
    {
      "cell_type": "code",
      "metadata": {
        "id": "g7LpN8nSIfBL",
        "colab_type": "code",
        "colab": {}
      },
      "source": [
        "#Convertir el archivo unicode a ascii\n",
        "def unicode_to_ascii(s):\n",
        "  return ''.join(c for c in unicodedata.normalize('NFD', s)\n",
        "                if unicodedata.category(c) != 'Mn')\n",
        "\n",
        "\n",
        "def preprocess_sentence(w):\n",
        "  w = unicode_to_ascii(w.lower().strip())\n",
        "  \n",
        "  #Se crea un espacio entre una palabra y el signo siguiente\n",
        "  #ejemplo: 'he is a boy.' ==> 'he is a boy .'\n",
        "  #Referencia: - https://stackoverflow.com/questions/3645931/python-padding-puntuation-with-white-spaces-keeping-puntuation\n",
        "  w = re.sub(r\"([?.!,¿])\", r\" \\1 \", w)\n",
        "  w = re.sub(r'[\" \"]+', \" \", w)\n",
        "  \n",
        "  #Reemplaza cualquier signo por un espacio excepto (a-z, A-Z, '.', '?', '!', ',')\n",
        "  w = re.sub(r\"[^a-zA-Z?.!,¿]+\", \" \", w)\n",
        "  \n",
        "  w = w.rstrip().strip()\n",
        "  \n",
        "  #Añade un comienzo y un final a la marca de la sentencia\n",
        "  #Así el modelo sabe cuando empieza y termina\n",
        "  w = '<start> ' + w + ' <end>'\n",
        "  return w"
      ],
      "execution_count": 0,
      "outputs": []
    },
    {
      "cell_type": "code",
      "metadata": {
        "id": "jVMGRqLzMJsg",
        "colab_type": "code",
        "outputId": "9c327ed0-a90f-4fe2-fe90-a23171a6337b",
        "colab": {
          "base_uri": "https://localhost:8080/",
          "height": 51
        }
      },
      "source": [
        "en_sentence = u'May I borrow this book?'\n",
        "sp_sentence = u'¿Puedo tomar prestado este libro?'\n",
        "print(preprocess_sentence(en_sentence))\n",
        "print(preprocess_sentence(sp_sentence).encode('utf-8'))"
      ],
      "execution_count": 5,
      "outputs": [
        {
          "output_type": "stream",
          "text": [
            "<start> may i borrow this book ? <end>\n",
            "b'<start> \\xc2\\xbf puedo tomar prestado este libro ? <end>'\n"
          ],
          "name": "stdout"
        }
      ]
    },
    {
      "cell_type": "code",
      "metadata": {
        "id": "_DWwu7_BMxym",
        "colab_type": "code",
        "colab": {}
      },
      "source": [
        "#1.- Se remueven los acentos\n",
        "#2.- Se limpian las sentencias\n",
        "#3.- Regresa los pares de palabras en inglés , español\n",
        "\n",
        "def create_dataset(path, num_examples):\n",
        "  lines = io.open(path, encoding='UTF-8').read().split('\\n')\n",
        "  \n",
        "  word_pairs = [[preprocess_sentence(w) for w in l.split('\\t')] for l in lines[:num_examples]]\n",
        "  \n",
        "  return zip(*word_pairs)"
      ],
      "execution_count": 0,
      "outputs": []
    },
    {
      "cell_type": "code",
      "metadata": {
        "id": "h_jSIeDnOTU1",
        "colab_type": "code",
        "colab": {}
      },
      "source": [
        "en, sp = create_dataset(path_to_file, None)\n",
        "print(en[-1])\n",
        "print(sp[-1])"
      ],
      "execution_count": 0,
      "outputs": []
    },
    {
      "cell_type": "code",
      "metadata": {
        "id": "D2qPt0pOOkiZ",
        "colab_type": "code",
        "colab": {}
      },
      "source": [
        "def max_length(tensor):\n",
        "  return max(len(t) for t in tensor)"
      ],
      "execution_count": 0,
      "outputs": []
    },
    {
      "cell_type": "code",
      "metadata": {
        "id": "OMbyFAonQyLc",
        "colab_type": "code",
        "colab": {}
      },
      "source": [
        "def tokenize(lang):\n",
        "  lang_tokenizer = tf.keras.preprocessing.text.Tokenizer(\n",
        "      filters='')\n",
        "  lang_tokenizer.fit_on_texts(lang)\n",
        "  \n",
        "  tensor = lang_tokenizer.texts_to_sequences(lang)\n",
        "  \n",
        "  tensor = tf.keras.preprocessing.sequence.pad_sequences(tensor, padding='post')\n",
        "  \n",
        "  return tensor, lang_tokenizer"
      ],
      "execution_count": 0,
      "outputs": []
    },
    {
      "cell_type": "code",
      "metadata": {
        "id": "eL2roYOrRop0",
        "colab_type": "code",
        "colab": {}
      },
      "source": [
        "def load_dataset(path, num_examples=None):\n",
        "  #Creando entradas listas, pares de salida\n",
        "  targ_lang, inp_lang = create_dataset(path, num_examples)\n",
        "  \n",
        "  input_tensor, inp_lang_tokenizer = tokenize(inp_lang)\n",
        "  target_tensor, targ_lang_tokenizer = tokenize(targ_lang)\n",
        "  \n",
        "  return input_tensor, target_tensor, inp_lang_tokenizer, targ_lang_tokenizer\n",
        "  "
      ],
      "execution_count": 0,
      "outputs": []
    },
    {
      "cell_type": "code",
      "metadata": {
        "id": "ALw7ocv_Sp17",
        "colab_type": "code",
        "colab": {}
      },
      "source": [
        "#Se va a reducir el número de sentencias a usar por el tiempo, sólo se usarán 30000\n",
        "#Se determina el numero de sentencias\n",
        "num_examples = 30000\n",
        "input_tensor, target_tensor, inp_lang, targ_lang =load_dataset(path_to_file, num_examples)\n",
        "\n",
        "#Se calcula la máxima longitud del target tensors\n",
        "max_length_targ, max_length_inp = max_length(target_tensor), max_length(input_tensor)"
      ],
      "execution_count": 0,
      "outputs": []
    },
    {
      "cell_type": "code",
      "metadata": {
        "id": "dshjh0yDT6bk",
        "colab_type": "code",
        "outputId": "d9f4e4a7-2f6b-4aed-8338-481c4d295eed",
        "colab": {
          "base_uri": "https://localhost:8080/",
          "height": 34
        }
      },
      "source": [
        "#Se crea el conjunto de entrenamiento y validación usando el 80 y el 20% de la muestra\n",
        "input_tensor_train, input_tensor_val, target_tensor_train, target_tensor_val = train_test_split(input_tensor, target_tensor, test_size=0.2)\n",
        "\n",
        "#Se muestra el tamaño de las muestras\n",
        "print(len(input_tensor_train), len(target_tensor_train), len(input_tensor_val), len(target_tensor_val))"
      ],
      "execution_count": 12,
      "outputs": [
        {
          "output_type": "stream",
          "text": [
            "24000 24000 6000 6000\n"
          ],
          "name": "stdout"
        }
      ]
    },
    {
      "cell_type": "code",
      "metadata": {
        "id": "LEUOzuS1VTTD",
        "colab_type": "code",
        "colab": {}
      },
      "source": [
        "def convert(lang, tensor):\n",
        "  for t in tensor:\n",
        "    if t != 0:\n",
        "      print('%d -----> %s' % (t, lang.index_word[t]))"
      ],
      "execution_count": 0,
      "outputs": []
    },
    {
      "cell_type": "code",
      "metadata": {
        "id": "FP1Pl-eCVuFE",
        "colab_type": "code",
        "outputId": "ab0e1882-bf03-4ad7-c30c-790b5c4a8fa4",
        "colab": {
          "base_uri": "https://localhost:8080/",
          "height": 272
        }
      },
      "source": [
        "print('Idioma de entrada; indice de palabras transformadas')\n",
        "convert(inp_lang, input_tensor_train[0])\n",
        "print()\n",
        "print('Idioma de salida; indice de palabras transformadas')\n",
        "convert(targ_lang, target_tensor_train[0])"
      ],
      "execution_count": 14,
      "outputs": [
        {
          "output_type": "stream",
          "text": [
            "Idioma de entrada; indice de palabras transformadas\n",
            "1 -----> <start>\n",
            "1658 -----> tomate\n",
            "15 -----> un\n",
            "1102 -----> descanso\n",
            "3 -----> .\n",
            "2 -----> <end>\n",
            "\n",
            "Idioma de salida; indice de palabras transformadas\n",
            "1 -----> <start>\n",
            "94 -----> take\n",
            "9 -----> a\n",
            "516 -----> break\n",
            "3 -----> .\n",
            "2 -----> <end>\n"
          ],
          "name": "stdout"
        }
      ]
    },
    {
      "cell_type": "code",
      "metadata": {
        "id": "RrCReNkJWQ1i",
        "colab_type": "code",
        "colab": {}
      },
      "source": [
        "#Crea un conjunto de datos tf.data\n",
        "BUFFER_SIZE = len(input_tensor_train)\n",
        "BATCH_SIZE = 64\n",
        "steps_per_epoch = len(input_tensor_train)//BATCH_SIZE\n",
        "embedding_dim = 256\n",
        "units = 1024\n",
        "vocab_inp_size = len(inp_lang.word_index)+1\n",
        "vocab_tar_size = len(targ_lang.word_index)+1\n",
        "\n",
        "dataset = tf.data.Dataset.from_tensor_slices((input_tensor_train, target_tensor_train)).shuffle(BUFFER_SIZE)\n",
        "dataset = dataset.batch(BATCH_SIZE, drop_remainder= True)"
      ],
      "execution_count": 0,
      "outputs": []
    },
    {
      "cell_type": "code",
      "metadata": {
        "id": "yGOB44d2Xx75",
        "colab_type": "code",
        "outputId": "d44e5e71-59f7-4c09-fa72-c043fd719f45",
        "colab": {
          "base_uri": "https://localhost:8080/",
          "height": 34
        }
      },
      "source": [
        "example_input_batch, example_target_batch = next(iter(dataset))\n",
        "example_input_batch.shape, example_target_batch.shape"
      ],
      "execution_count": 16,
      "outputs": [
        {
          "output_type": "execute_result",
          "data": {
            "text/plain": [
              "(TensorShape([64, 16]), TensorShape([64, 11]))"
            ]
          },
          "metadata": {
            "tags": []
          },
          "execution_count": 16
        }
      ]
    },
    {
      "cell_type": "code",
      "metadata": {
        "id": "FetKY2YZYF7v",
        "colab_type": "code",
        "colab": {}
      },
      "source": [
        "class Encoder(tf.keras.Model):\n",
        "  def __init__(self, vocab_size, embedding_dim, enc_units, batch_sz):\n",
        "    super(Encoder, self).__init__()\n",
        "    self.batch_sz = batch_sz\n",
        "    self.enc_units = enc_units\n",
        "    self.embedding = tf.keras.layers.Embedding(vocab_size, embedding_dim)\n",
        "    self.gru = tf.keras.layers.GRU(self.enc_units,\n",
        "                                  return_sequences=True,\n",
        "                                  return_state=True,\n",
        "                                  recurrent_initializer='glorot_uniform')\n",
        "    \n",
        "    \n",
        "  def call(self, x, hidden):\n",
        "    x = self.embedding(x)\n",
        "    output, state = self.gru(x, initial_state = hidden)\n",
        "    return output, state\n",
        "  \n",
        "  \n",
        "  def initialize_hidden_state(self):\n",
        "    return tf.zeros((self.batch_sz, self.enc_units))"
      ],
      "execution_count": 0,
      "outputs": []
    },
    {
      "cell_type": "code",
      "metadata": {
        "id": "ImDd2EmGcNog",
        "colab_type": "code",
        "outputId": "8a3b8c9a-045e-4583-bd0f-6f9986dd048a",
        "colab": {
          "base_uri": "https://localhost:8080/",
          "height": 51
        }
      },
      "source": [
        "encoder = Encoder(vocab_inp_size, embedding_dim, units, BATCH_SIZE)\n",
        "\n",
        "#Ejemplo de entrada\n",
        "sample_hidden = encoder.initialize_hidden_state()\n",
        "sample_output, sample_hidden = encoder(example_input_batch, sample_hidden)\n",
        "\n",
        "print('Encoder output shape: (batch size, sequence length, units) {}'.format(sample_output.shape))\n",
        "print('Encoder Hidden state shape: (batch size, units) {}'.format(sample_hidden.shape))"
      ],
      "execution_count": 18,
      "outputs": [
        {
          "output_type": "stream",
          "text": [
            "Encoder output shape: (batch size, sequence length, units) (64, 16, 1024)\n",
            "Encoder Hidden state shape: (batch size, units) (64, 1024)\n"
          ],
          "name": "stdout"
        }
      ]
    },
    {
      "cell_type": "code",
      "metadata": {
        "id": "LTG6zDNLdZir",
        "colab_type": "code",
        "colab": {}
      },
      "source": [
        "class BahdanauAttention(tf.keras.Model):\n",
        "  def __init__(self, units):\n",
        "    super(BahdanauAttention, self).__init__()\n",
        "    self.W1 = tf.keras.layers.Dense(units)\n",
        "    self.W2 = tf.keras.layers.Dense(units)\n",
        "    self.V = tf.keras.layers.Dense(1)\n",
        "    \n",
        "    \n",
        "  def call(self, query, values):\n",
        "    #Forma oculta == (batch_size, hidden_size)\n",
        "    #Forma hidden_with_time_axis == (batch_size, 1, hidden size)\n",
        "    #Se hace esto para desarrollar la adicion al calcular el escore\n",
        "    hidden_with_times_axis = tf.expand_dims(query, 1)\n",
        "    \n",
        "    \n",
        "    #Score shape == (batch_size, max_length, 1)\n",
        "    #La forma del tensor despues de aplicar self.V is (batch_size, max_length, units)\n",
        "    score = self.V(tf.nn.tanh(\n",
        "        self.W1(values) + self.W2(hidden_with_times_axis)))\n",
        "    \n",
        "    attention_weights = tf.nn.softmax(score, axis=1)\n",
        "    \n",
        "    context_vector = attention_weights * values\n",
        "    context_vector = tf.reduce_sum(context_vector, axis=1)\n",
        "    \n",
        "    return context_vector, attention_weights"
      ],
      "execution_count": 0,
      "outputs": []
    },
    {
      "cell_type": "code",
      "metadata": {
        "id": "mOV9pmT9gIYD",
        "colab_type": "code",
        "outputId": "b5251e00-1e40-4ace-d2ac-c6c794995c42",
        "colab": {
          "base_uri": "https://localhost:8080/",
          "height": 51
        }
      },
      "source": [
        "attention_layer = BahdanauAttention(10)\n",
        "attention_result, attention_weights = attention_layer(sample_hidden, sample_output)\n",
        "\n",
        "print('Forma del resultado de attention: (batch_size, units) {}'.format(attention_result.shape))\n",
        "print('Forma del peso de attention: (batch_size, sequence_length, 1) {}'.format(attention_weights.shape))"
      ],
      "execution_count": 20,
      "outputs": [
        {
          "output_type": "stream",
          "text": [
            "Forma del resultado de attention: (batch_size, units) (64, 1024)\n",
            "Forma del peso de attention: (batch_size, sequence_length, 1) (64, 16, 1)\n"
          ],
          "name": "stdout"
        }
      ]
    },
    {
      "cell_type": "code",
      "metadata": {
        "id": "s0_Fgkt-hATy",
        "colab_type": "code",
        "colab": {}
      },
      "source": [
        "class Decoder(tf.keras.Model):\n",
        "  def __init__(self, vocab_size, embedding_dim, dec_units, batch_sz):\n",
        "    super(Decoder, self).__init__()\n",
        "    self.batch_sz = batch_sz\n",
        "    self.dec_units = dec_units\n",
        "    self.embedding = tf.keras.layers.Embedding(vocab_size, embedding_dim)\n",
        "    self.gru = tf.keras.layers.GRU(self.dec_units,\n",
        "                                  return_sequences=True,\n",
        "                                  return_state=True,\n",
        "                                  recurrent_initializer='glorot_uniform')\n",
        "    self.fc = tf.keras.layers.Dense(vocab_size)\n",
        "    \n",
        "    #Usado por attention\n",
        "    self.attention = BahdanauAttention(self.dec_units)\n",
        "    \n",
        "  def call(self, x, hidden, enc_output):\n",
        "    context_vector, attention_weights = self.attention(hidden, enc_output)\n",
        "    \n",
        "    x = self.embedding(x)\n",
        "    \n",
        "    x = tf.concat([tf.expand_dims(context_vector, 1), x], axis = -1)\n",
        "    \n",
        "    output, state = self.gru(x)\n",
        "    \n",
        "    output = tf.reshape(output, (-1, output.shape[2]))\n",
        "    \n",
        "    x = self.fc(output)\n",
        "    \n",
        "    return x, state, attention_weights"
      ],
      "execution_count": 0,
      "outputs": []
    },
    {
      "cell_type": "code",
      "metadata": {
        "id": "OBL1Xco-jcgz",
        "colab_type": "code",
        "outputId": "d205acfc-ce77-464a-d180-239930b0e887",
        "colab": {
          "base_uri": "https://localhost:8080/",
          "height": 34
        }
      },
      "source": [
        "decoder = Decoder(vocab_tar_size, embedding_dim, units, BATCH_SIZE)\n",
        "\n",
        "sample_decoder_output, _, _ = decoder(tf.random.uniform((64, 1)),\n",
        "                                     sample_hidden, sample_output)\n",
        "\n",
        "print('Forma de la salida de Decoder: (batch_size, vocab_size) {}'.format(sample_decoder_output.shape))"
      ],
      "execution_count": 22,
      "outputs": [
        {
          "output_type": "stream",
          "text": [
            "Forma de la salida de Decoder: (batch_size, vocab_size) (64, 4935)\n"
          ],
          "name": "stdout"
        }
      ]
    },
    {
      "cell_type": "code",
      "metadata": {
        "id": "ZD4yWDl1kGdq",
        "colab_type": "code",
        "colab": {}
      },
      "source": [
        "#Se definen el optimizador y la función de pérdida\n",
        "\n",
        "optimizer = tf.keras.optimizers.Adam()\n",
        "loss_object = tf.keras.losses.SparseCategoricalCrossentropy(\n",
        "    from_logits = True, reduction='none')\n",
        "\n",
        "def loss_function(real, pred):\n",
        "  mask = tf.math.logical_not(tf.math.equal(real, 0))\n",
        "  loss_ = loss_object(real, pred)\n",
        "  \n",
        "  mask = tf.cast(mask, dtype=loss_.dtype)\n",
        "  loss_ *= mask\n",
        "  \n",
        "  return tf.reduce_mean(loss_)"
      ],
      "execution_count": 0,
      "outputs": []
    },
    {
      "cell_type": "code",
      "metadata": {
        "id": "gfT7iy1VlyP7",
        "colab_type": "code",
        "colab": {}
      },
      "source": [
        "checkpoint_dir = './training_checkpoints'\n",
        "checkpoint_prefix = os.path.join(checkpoint_dir, 'ckpt')\n",
        "checkpoint = tf.train.Checkpoint(optimizer=optimizer,\n",
        "                                encoder = encoder,\n",
        "                                decoder = decoder)"
      ],
      "execution_count": 0,
      "outputs": []
    },
    {
      "cell_type": "code",
      "metadata": {
        "id": "nBUqezjFmapW",
        "colab_type": "code",
        "colab": {}
      },
      "source": [
        "@tf.function\n",
        "def train_step(inp, targ, enc_hidden):\n",
        "  loss = 0\n",
        "  \n",
        "  with tf.GradientTape() as tape:\n",
        "    enc_output, enc_hidden = encoder(inp, enc_hidden)\n",
        "    \n",
        "    dec_hidden = enc_hidden\n",
        "    \n",
        "    dec_input = tf.expand_dims([targ_lang.word_index['<start>']] * BATCH_SIZE, 1)\n",
        "    \n",
        "    # Teacher forcing - feeding the target as the next input\n",
        "    for t in range(1, targ.shape[1]):\n",
        "      #pasando enc_output al decodificador (decoder)\n",
        "      predictions, dec_hidden, _ = decoder(dec_input, dec_hidden, enc_output)\n",
        "      \n",
        "      loss += loss_function(targ[:, t], predictions)\n",
        "      \n",
        "      #usando teaching forcing\n",
        "      dec_input = tf.expand_dims(targ[:, t], 1)\n",
        "      \n",
        "  batch_loss = (loss / int(targ.shape[1]))\n",
        "  \n",
        "  variables = encoder.trainable_variables + decoder.trainable_variables\n",
        "  \n",
        "  gradients = tape.gradient(loss, variables)\n",
        "  \n",
        "  optimizer.apply_gradients(zip(gradients, variables))\n",
        "  \n",
        "  return batch_loss\n",
        "\n",
        "\n",
        "      "
      ],
      "execution_count": 0,
      "outputs": []
    },
    {
      "cell_type": "code",
      "metadata": {
        "id": "NBpwxJ_RFsFW",
        "colab_type": "code",
        "outputId": "78b43a64-9be6-4612-e35c-2d2e0fa96eeb",
        "colab": {
          "base_uri": "https://localhost:8080/",
          "height": 1000
        }
      },
      "source": [
        "EPOCHS = 10\n",
        "\n",
        "for epoch in range(EPOCHS):\n",
        "  start = time.time()\n",
        "  \n",
        "  enc_hidden = encoder.initialize_hidden_state()\n",
        "  total_loss = 0\n",
        "  \n",
        "  for (batch, (inp, targ)) in enumerate(dataset.take(steps_per_epoch)):\n",
        "    batch_loss = train_step(inp, targ, enc_hidden)\n",
        "    total_loss += batch_loss\n",
        "    \n",
        "    if batch % 100 == 0:\n",
        "      print('Epoca {} batch {} pérdida {:.4f}'.format(epoch + 1,\n",
        "                                                      batch,\n",
        "                                                     batch_loss.numpy()))\n",
        "      \n",
        "  # guardando (checkpoint) el modelo cada 2 epocas\n",
        "  if (epoch + 1) % 2 == 0:\n",
        "    checkpoint.save(file_prefix = checkpoint_prefix)\n",
        "    \n",
        "  print('Epoca {} pérdida {:.4f}'.format(epoch + 1,\n",
        "                                        total_loss / steps_per_epoch))\n",
        "  \n",
        "  print('Tiempo tomado por 1 epoca {} sec\\n'.format(time.time() - start))"
      ],
      "execution_count": 26,
      "outputs": [
        {
          "output_type": "stream",
          "text": [
            "Epoca 1 batch 0 pérdida 4.5422\n",
            "Epoca 1 batch 100 pérdida 2.2864\n",
            "Epoca 1 batch 200 pérdida 1.8419\n",
            "Epoca 1 batch 300 pérdida 1.7191\n",
            "Epoca 1 pérdida 2.0208\n",
            "Tiempo tomado por 1 epoca 36.414178133010864 sec\n",
            "\n",
            "Epoca 2 batch 0 pérdida 1.5061\n",
            "Epoca 2 batch 100 pérdida 1.4366\n",
            "Epoca 2 batch 200 pérdida 1.3698\n",
            "Epoca 2 batch 300 pérdida 1.2552\n",
            "Epoca 2 pérdida 1.3529\n",
            "Tiempo tomado por 1 epoca 26.945581912994385 sec\n",
            "\n",
            "Epoca 3 batch 0 pérdida 1.0159\n",
            "Epoca 3 batch 100 pérdida 0.8618\n",
            "Epoca 3 batch 200 pérdida 0.8760\n",
            "Epoca 3 batch 300 pérdida 0.7312\n",
            "Epoca 3 pérdida 0.9219\n",
            "Tiempo tomado por 1 epoca 26.259536266326904 sec\n",
            "\n",
            "Epoca 4 batch 0 pérdida 0.7041\n",
            "Epoca 4 batch 100 pérdida 0.6207\n",
            "Epoca 4 batch 200 pérdida 0.6722\n",
            "Epoca 4 batch 300 pérdida 0.5851\n",
            "Epoca 4 pérdida 0.6149\n",
            "Tiempo tomado por 1 epoca 26.858049869537354 sec\n",
            "\n",
            "Epoca 5 batch 0 pérdida 0.2978\n",
            "Epoca 5 batch 100 pérdida 0.4096\n",
            "Epoca 5 batch 200 pérdida 0.3948\n",
            "Epoca 5 batch 300 pérdida 0.3696\n",
            "Epoca 5 pérdida 0.4152\n",
            "Tiempo tomado por 1 epoca 26.318233251571655 sec\n",
            "\n",
            "Epoca 6 batch 0 pérdida 0.3102\n",
            "Epoca 6 batch 100 pérdida 0.2640\n",
            "Epoca 6 batch 200 pérdida 0.2752\n",
            "Epoca 6 batch 300 pérdida 0.3274\n",
            "Epoca 6 pérdida 0.2868\n",
            "Tiempo tomado por 1 epoca 26.570420503616333 sec\n",
            "\n",
            "Epoca 7 batch 0 pérdida 0.1800\n",
            "Epoca 7 batch 100 pérdida 0.2262\n",
            "Epoca 7 batch 200 pérdida 0.2112\n",
            "Epoca 7 batch 300 pérdida 0.2310\n",
            "Epoca 7 pérdida 0.2072\n",
            "Tiempo tomado por 1 epoca 26.102245807647705 sec\n",
            "\n",
            "Epoca 8 batch 0 pérdida 0.0906\n",
            "Epoca 8 batch 100 pérdida 0.2029\n",
            "Epoca 8 batch 200 pérdida 0.1540\n",
            "Epoca 8 batch 300 pérdida 0.1953\n",
            "Epoca 8 pérdida 0.1564\n",
            "Tiempo tomado por 1 epoca 26.5083646774292 sec\n",
            "\n",
            "Epoca 9 batch 0 pérdida 0.1227\n",
            "Epoca 9 batch 100 pérdida 0.1257\n",
            "Epoca 9 batch 200 pérdida 0.1058\n",
            "Epoca 9 batch 300 pérdida 0.1525\n",
            "Epoca 9 pérdida 0.1215\n",
            "Tiempo tomado por 1 epoca 26.077852249145508 sec\n",
            "\n",
            "Epoca 10 batch 0 pérdida 0.0693\n",
            "Epoca 10 batch 100 pérdida 0.0767\n",
            "Epoca 10 batch 200 pérdida 0.0952\n",
            "Epoca 10 batch 300 pérdida 0.0976\n",
            "Epoca 10 pérdida 0.0984\n",
            "Tiempo tomado por 1 epoca 26.316412210464478 sec\n",
            "\n"
          ],
          "name": "stdout"
        }
      ]
    },
    {
      "cell_type": "code",
      "metadata": {
        "id": "rOQYe8QuIgTY",
        "colab_type": "code",
        "colab": {}
      },
      "source": [
        "def evaluate(sentence):\n",
        "  attention_plot = np.zeros((max_length_targ, max_length_inp))\n",
        "  \n",
        "  sentence = preprocess_sentence(sentence)\n",
        "  \n",
        "  inputs = [inp_lang.word_index[i] for i in sentence.split(' ')]\n",
        "  inputs = tf.keras.preprocessing.sequence.pad_sequences([inputs],\n",
        "                                                        maxlen = max_length_inp,\n",
        "                                                        padding = 'post')\n",
        "  inputs = tf.convert_to_tensor(inputs)\n",
        "  \n",
        "  result = ''\n",
        "  \n",
        "  hidden = [tf.zeros((1, units))]\n",
        "  enc_out, enc_hidden = encoder(inputs, hidden)\n",
        "  \n",
        "  dec_hidden = enc_hidden\n",
        "  dec_input = tf.expand_dims([targ_lang.word_index['<start>']], 0)\n",
        "  \n",
        "  for t in range(max_length_targ):\n",
        "    predictions, dec_hidden, attention_weigths = decoder(dec_input,\n",
        "                                                        dec_hidden,\n",
        "                                                        enc_out)\n",
        "    \n",
        "    \n",
        "    # guardando attention weigths para más tarde\n",
        "    attention_weigths = tf.reshape(attention_weigths, (-1, ))\n",
        "    attention_plot[t] = attention_weigths.numpy()\n",
        "    \n",
        "    predicted_id = tf.argmax(predictions[0]).numpy()\n",
        "    \n",
        "    result += targ_lang.index_word[predicted_id] + ' '\n",
        "    \n",
        "    if targ_lang.index_word[predicted_id] == '<end>':\n",
        "      return result, sentence, attention_plot\n",
        "    \n",
        "    # el ID predicho retroalimenta el modelo\n",
        "    dec_input = tf.expand_dims([predicted_id], 0)\n",
        "    \n",
        "  return result, sentence, attention_plot\n",
        "    "
      ],
      "execution_count": 0,
      "outputs": []
    },
    {
      "cell_type": "code",
      "metadata": {
        "id": "UtR8EXg8OG_q",
        "colab_type": "code",
        "colab": {}
      },
      "source": [
        "# función plotting del attention weigths\n",
        "\n",
        "def plot_attention(attention, sentence, predicted_sentence):\n",
        "  fig = plt.figure(figsize=(10, 10))\n",
        "  ax = fig.add_subplot(1, 1, 1)\n",
        "  ax.matshow(attention, cmap='viridis')\n",
        "  \n",
        "  fontdict = {'fontsize': 14}\n",
        "  \n",
        "  ax.set_xticklabels([''] + sentence, fontdict=fontdict, rotation=90)\n",
        "  ax.set_yticklabels([''] + predicted_sentence, fontdict=fontdict)\n",
        "  \n",
        "  ax.xaxis.set_major_locator(ticker.MultipleLocator(1))\n",
        "  ax.yaxis.set_major_locator(ticker.MultipleLocator(1))\n",
        "  \n",
        "  \n",
        "  plt.show()"
      ],
      "execution_count": 0,
      "outputs": []
    },
    {
      "cell_type": "code",
      "metadata": {
        "id": "w0iupV-LP1Hx",
        "colab_type": "code",
        "colab": {}
      },
      "source": [
        "def translate(sentence):\n",
        "  result, sentence, attention_plot = evaluate(sentence)\n",
        "  \n",
        "  print('Entrada: %s' % (sentence))\n",
        "  print('Traducción: {}'.format(result))\n",
        "  \n",
        "  attention_plot = attention_plot[:len(result.split(' ')), :len(sentence.split(' '))]\n",
        "  plot_attention(attention_plot, sentence.split(' '), result.split(' '))"
      ],
      "execution_count": 0,
      "outputs": []
    },
    {
      "cell_type": "code",
      "metadata": {
        "id": "rgoE_qktQroV",
        "colab_type": "code",
        "outputId": "dfb7f88f-4129-44c9-de51-461add72358e",
        "colab": {
          "base_uri": "https://localhost:8080/",
          "height": 34
        }
      },
      "source": [
        "#Resguardando el último checkpoint en checkpoint_dir\n",
        "checkpoint.restore(tf.train.latest_checkpoint(checkpoint_dir))"
      ],
      "execution_count": 30,
      "outputs": [
        {
          "output_type": "execute_result",
          "data": {
            "text/plain": [
              "<tensorflow.python.training.tracking.util.CheckpointLoadStatus at 0x7f7d060ff198>"
            ]
          },
          "metadata": {
            "tags": []
          },
          "execution_count": 30
        }
      ]
    },
    {
      "cell_type": "code",
      "metadata": {
        "id": "Fkf3CFzxRGEw",
        "colab_type": "code",
        "outputId": "016e8796-ab8d-4a88-b68a-281e4bdb9f9d",
        "colab": {
          "base_uri": "https://localhost:8080/",
          "height": 675
        }
      },
      "source": [
        "translate(u'Está muy caliente aquí')"
      ],
      "execution_count": 31,
      "outputs": [
        {
          "output_type": "stream",
          "text": [
            "Entrada: <start> esta muy caliente aqui <end>\n",
            "Traducción: it s very hot ! <end> \n"
          ],
          "name": "stdout"
        },
        {
          "output_type": "display_data",
          "data": {
            "image/png": "[encoded data removed]",
            "text/plain": [
              "<Figure size 720x720 with 1 Axes>"
            ]
          },
          "metadata": {
            "tags": []
          }
        }
      ]
    },
    {
      "cell_type": "code",
      "metadata": {
        "id": "6RwLP0AkRXjL",
        "colab_type": "code",
        "outputId": "41d7ce72-90db-49b2-ab19-973c9da9d38e",
        "colab": {
          "base_uri": "https://localhost:8080/",
          "height": 610
        }
      },
      "source": [
        "translate(u'Así es la vida.')"
      ],
      "execution_count": 32,
      "outputs": [
        {
          "output_type": "stream",
          "text": [
            "Entrada: <start> asi es la vida . <end>\n",
            "Traducción: that s life . <end> \n"
          ],
          "name": "stdout"
        },
        {
          "output_type": "display_data",
          "data": {
            "image/png": "[encoded data removed]",
            "text/plain": [
              "<Figure size 720x720 with 1 Axes>"
            ]
          },
          "metadata": {
            "tags": []
          }
        }
      ]
    },
    {
      "cell_type": "code",
      "metadata": {
        "id": "l2cDmLgnTB_M",
        "colab_type": "code",
        "outputId": "9718b0eb-30c1-4b10-8be9-c5a7359638db",
        "colab": {
          "base_uri": "https://localhost:8080/",
          "height": 675
        }
      },
      "source": [
        "translate(u'Mi vida esta lleno de rosas')"
      ],
      "execution_count": 33,
      "outputs": [
        {
          "output_type": "stream",
          "text": [
            "Entrada: <start> mi vida esta lleno de rosas <end>\n",
            "Traducción: my life is full east . <end> \n"
          ],
          "name": "stdout"
        },
        {
          "output_type": "display_data",
          "data": {
            "image/png": "[encoded data removed]",
            "text/plain": [
              "<Figure size 720x720 with 1 Axes>"
            ]
          },
          "metadata": {
            "tags": []
          }
        }
      ]
    },
    {
      "cell_type": "code",
      "metadata": {
        "id": "5-L5wkrDTJNx",
        "colab_type": "code",
        "outputId": "4a8b1155-0cd0-4a14-f063-e588fec4a56a",
        "colab": {
          "base_uri": "https://localhost:8080/",
          "height": 676
        }
      },
      "source": [
        "translate('la mañana es bonita')"
      ],
      "execution_count": 34,
      "outputs": [
        {
          "output_type": "stream",
          "text": [
            "Entrada: <start> la manana es bonita <end>\n",
            "Traducción: tomorrow is incredible ! <end> \n"
          ],
          "name": "stdout"
        },
        {
          "output_type": "display_data",
          "data": {
            "image/png": "[encoded data removed]",
            "text/plain": [
              "<Figure size 720x720 with 1 Axes>"
            ]
          },
          "metadata": {
            "tags": []
          }
        }
      ]
    },
    {
      "cell_type": "code",
      "metadata": {
        "id": "6_piglMoTd57",
        "colab_type": "code",
        "outputId": "19a08e86-07e0-41e6-8863-6968c5df4f4d",
        "colab": {
          "base_uri": "https://localhost:8080/",
          "height": 675
        }
      },
      "source": [
        "translate('La vida es corta')"
      ],
      "execution_count": 37,
      "outputs": [
        {
          "output_type": "stream",
          "text": [
            "Entrada: <start> la vida es corta <end>\n",
            "Traducción: life is short . <end> \n"
          ],
          "name": "stdout"
        },
        {
          "output_type": "display_data",
          "data": {
            "image/png": "[encoded data removed]",
            "text/plain": [
              "<Figure size 720x720 with 1 Axes>"
            ]
          },
          "metadata": {
            "tags": []
          }
        }
      ]
    },
    {
      "cell_type": "code",
      "metadata": {
        "id": "_xSUQZUEVGe-",
        "colab_type": "code",
        "outputId": "e2cced55-ec3a-47d0-f5ad-baea73188286",
        "colab": {
          "base_uri": "https://localhost:8080/",
          "height": 621
        }
      },
      "source": [
        "translate('Muero lentamente cada amanecer')"
      ],
      "execution_count": 40,
      "outputs": [
        {
          "output_type": "stream",
          "text": [
            "Entrada: <start> muero lentamente cada amanecer <end>\n",
            "Traducción: stop slowly . <end> \n"
          ],
          "name": "stdout"
        },
        {
          "output_type": "display_data",
          "data": {
            "image/png": "[encoded data removed]",
            "text/plain": [
              "<Figure size 720x720 with 1 Axes>"
            ]
          },
          "metadata": {
            "tags": []
          }
        }
      ]
    },
    {
      "cell_type": "markdown",
      "metadata": {
        "id": "7P1d5yTiiRUN",
        "colab_type": "text"
      },
      "source": [
        "Como se ve, el traductor aun es muy limitado...el modelo se entrenó con pocos datos y para oraciones muy cortas."
      ]
    },
    {
      "cell_type": "code",
      "metadata": {
        "id": "iEm_PfxmVO2C",
        "colab_type": "code",
        "colab": {}
      },
      "source": [
        ""
      ],
      "execution_count": 0,
      "outputs": []
    }
  ]
}