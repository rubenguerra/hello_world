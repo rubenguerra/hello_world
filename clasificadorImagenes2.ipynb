{
  "nbformat": 4,
  "nbformat_minor": 0,
  "metadata": {
    "colab": {
      "name": "clasificadorImagenes2.ipynb",
      "provenance": [],
      "collapsed_sections": [],
      "include_colab_link": true
    },
    "kernelspec": {
      "name": "python3",
      "display_name": "Python 3"
    },
    "accelerator": "GPU"
  },
  "cells": [
    {
      "cell_type": "markdown",
      "metadata": {
        "id": "view-in-github",
        "colab_type": "text"
      },
      "source": [
        "<a href=\"https://colab.research.google.com/github/rubenguerra/hello_world/blob/master/clasificadorImagenes2.ipynb\" target=\"_parent\"><img src=\"https://colab.research.google.com/assets/colab-badge.svg\" alt=\"Open In Colab\"/></a>"
      ]
    },
    {
      "cell_type": "markdown",
      "metadata": {
        "id": "uKJE3wbUtAVD",
        "colab_type": "text"
      },
      "source": [
        "Clasificador de imágenes con Pytorch"
      ]
    },
    {
      "cell_type": "code",
      "metadata": {
        "id": "f6p6264JtLCk",
        "colab_type": "code",
        "colab": {}
      },
      "source": [
        "# Se importan las bibliotecas\n",
        "\n",
        "import torch\n",
        "import torchvision\n",
        "import torchvision.transforms as transforms"
      ],
      "execution_count": 0,
      "outputs": []
    },
    {
      "cell_type": "code",
      "metadata": {
        "id": "kLsGuJrHt8je",
        "colab_type": "code",
        "colab": {}
      },
      "source": [
        "## Como la salida de los datos son imágenes en el rango [0,1], hay que transformarlos y normalizarlos a un rango de[-1,1]"
      ],
      "execution_count": 0,
      "outputs": []
    },
    {
      "cell_type": "code",
      "metadata": {
        "id": "RDaiZYhVuhIK",
        "colab_type": "code",
        "outputId": "5b024f1f-bf2a-4e62-ce9d-140374d7a8d7",
        "colab": {
          "base_uri": "https://localhost:8080/",
          "height": 51
        }
      },
      "source": [
        "transform = transforms.Compose(\n",
        "    [transforms.ToTensor(),\n",
        "     transforms.Normalize((0.5,0.5,0.5), (0.5,0.5,0.5))]\n",
        ")\n",
        "\n",
        "trainset = torchvision.datasets.CIFAR10(root='./data', train=True,\n",
        "                                        download=True, transform=transform)\n",
        "trainloader= torch.utils.data.DataLoader(trainset, batch_size=4,\n",
        "                                         shuffle=True, num_workers=2)\n",
        "\n",
        "testset = torchvision.datasets.CIFAR10(root='./data', train=False,\n",
        "                                       download=True, transform= transform)\n",
        "testloader = torch.utils.data.DataLoader(testset, batch_size=4,\n",
        "                                         shuffle=False, num_workers=2)\n",
        "\n",
        "classes= ('Avión', 'auto', 'pajaro', 'gato',\n",
        "          'venado', 'perro', 'rana', 'caballo', 'barco', 'camioneta')"
      ],
      "execution_count": 0,
      "outputs": [
        {
          "output_type": "stream",
          "text": [
            "Files already downloaded and verified\n",
            "Files already downloaded and verified\n"
          ],
          "name": "stdout"
        }
      ]
    },
    {
      "cell_type": "markdown",
      "metadata": {
        "id": "RG9lyreuVsT4",
        "colab_type": "text"
      },
      "source": [
        "Vamos a mostrar algunas imágenes"
      ]
    },
    {
      "cell_type": "code",
      "metadata": {
        "id": "BoTIBGC-xXEu",
        "colab_type": "code",
        "outputId": "68982ab4-b59c-4881-c639-1cdb4dd97d32",
        "colab": {
          "base_uri": "https://localhost:8080/",
          "height": 155
        }
      },
      "source": [
        "import matplotlib.pyplot as plt\n",
        "import numpy as np\n",
        "\n",
        "# Función que permite mostra las imágenes\n",
        "\n",
        "def imshow(img):\n",
        "  img = img / 2 + 0.5 # NO normalizada\n",
        "  npimg = img.numpy()\n",
        "  plt.imshow(np.transpose(npimg,(1,2,0)))\n",
        "  plt.show()\n",
        "\n",
        "\n",
        "# Se toman algunas imágenes al azar\n",
        "dataiter = iter(trainloader)\n",
        "images, labels = dataiter.next()\n",
        "\n",
        "# Muestra las imágenes\n",
        "imshow(torchvision.utils.make_grid(images))\n",
        "\n",
        "# Imprime las etiquetas\n",
        "print(' '.join('%5s' % classes[labels[j]] for j in range(4)))"
      ],
      "execution_count": 0,
      "outputs": [
        {
          "output_type": "display_data",
          "data": {
            "image/png": "[encoded data removed]",
            "text/plain": [
              "<Figure size 432x288 with 1 Axes>"
            ]
          },
          "metadata": {
            "tags": []
          }
        },
        {
          "output_type": "stream",
          "text": [
            " gato  auto caballo pajaro\n"
          ],
          "name": "stdout"
        }
      ]
    },
    {
      "cell_type": "markdown",
      "metadata": {
        "id": "VIr7lAeTXb2G",
        "colab_type": "text"
      },
      "source": [
        "SE CONSTRUYE LA RED NEURONAL CONVOLUCIONAL"
      ]
    },
    {
      "cell_type": "code",
      "metadata": {
        "id": "5wPMXhjbXTP5",
        "colab_type": "code",
        "colab": {}
      },
      "source": [
        "import torch.nn as nn\n",
        "import torch.nn.functional as F\n",
        "\n",
        "class Net(nn.Module):\n",
        "  def __init__(self):\n",
        "    super(Net, self).__init__()\n",
        "    self.conv1 = nn.Conv2d(3,6,5)\n",
        "    self.pool = nn.MaxPool2d(2,2)\n",
        "    self.conv2 = nn.Conv2d(6, 16, 5)\n",
        "    self.fc1 = nn.Linear(16*5*5, 120)\n",
        "    self.fc2 = nn.Linear(120, 84)\n",
        "    self.fc3 = nn.Linear(84, 10)\n",
        "\n",
        "  def forward(self, x):\n",
        "    x = self.pool(F.relu(self.conv1(x)))\n",
        "    x = self.pool(F.relu(self.conv2(x)))\n",
        "    x = x.view(-1, 16 * 5 * 5)\n",
        "    x = F.relu(self.fc1(x))\n",
        "    x = F.relu(self.fc2(x))\n",
        "    x = self.fc3(x)\n",
        "    return x\n",
        "\n",
        "\n",
        "net = Net()"
      ],
      "execution_count": 0,
      "outputs": []
    },
    {
      "cell_type": "markdown",
      "metadata": {
        "id": "uUIiz38fZqJZ",
        "colab_type": "text"
      },
      "source": [
        "Se crea la función de pérdida y el óptimizador"
      ]
    },
    {
      "cell_type": "code",
      "metadata": {
        "id": "ciNTM5KwZorL",
        "colab_type": "code",
        "colab": {}
      },
      "source": [
        "import torch.optim as optim\n",
        "\n",
        "criterion = nn.CrossEntropyLoss()\n",
        "optimizer = optim.SGD(net.parameters(), lr = 0.001, momentum = 0.9)"
      ],
      "execution_count": 0,
      "outputs": []
    },
    {
      "cell_type": "markdown",
      "metadata": {
        "id": "sx-57v366jzv",
        "colab_type": "text"
      },
      "source": [
        "ENTRENANDO LA RED NEURONAL"
      ]
    },
    {
      "cell_type": "code",
      "metadata": {
        "id": "HgtHeM05aMyx",
        "colab_type": "code",
        "outputId": "9ca8d79e-299b-4b24-f98c-2049978a5c92",
        "colab": {
          "base_uri": "https://localhost:8080/",
          "height": 238
        }
      },
      "source": [
        "for epoch in range(2): #ciclo sobre el dataset multiples veces\n",
        "\n",
        "  running_loss = 0.0\n",
        "  for i, data in enumerate(trainloader, 0):\n",
        "    #Coge las entradas, los datos son una lista de [entradas, etiquetas]\n",
        "    inputs, labels = data\n",
        "\n",
        "    # gradientes de parámetro cero\n",
        "    optimizer.zero_grad()\n",
        "\n",
        "    # continuar + retornar más optimizar\n",
        "    outputs = net(inputs)\n",
        "    loss = criterion(outputs, labels)\n",
        "    loss.backward()\n",
        "    optimizer.step()\n",
        "\n",
        "    # Imprime los estadísticos\n",
        "    running_loss += loss.item()\n",
        "    if i % 2000 == 1999:\n",
        "      print('[%d, %5d] loss: %.3f' %\n",
        "            (epoch + 1, i + 1, running_loss / 2000))\n",
        "      running_loss = 0.0\n",
        "\n",
        "print('Entrenamiento finalizado')\n"
      ],
      "execution_count": 0,
      "outputs": [
        {
          "output_type": "stream",
          "text": [
            "[1,  2000] loss: 2.266\n",
            "[1,  4000] loss: 1.906\n",
            "[1,  6000] loss: 1.692\n",
            "[1,  8000] loss: 1.609\n",
            "[1, 10000] loss: 1.514\n",
            "[1, 12000] loss: 1.472\n",
            "[2,  2000] loss: 1.407\n",
            "[2,  4000] loss: 1.375\n",
            "[2,  6000] loss: 1.339\n",
            "[2,  8000] loss: 1.313\n",
            "[2, 10000] loss: 1.300\n",
            "[2, 12000] loss: 1.283\n",
            "Entrenamiento finalizado\n"
          ],
          "name": "stdout"
        }
      ]
    },
    {
      "cell_type": "markdown",
      "metadata": {
        "id": "eax4N7RB-Sqs",
        "colab_type": "text"
      },
      "source": [
        "AHORA GUARDAMOS NUESTRO MODELO ENTRENADO"
      ]
    },
    {
      "cell_type": "code",
      "metadata": {
        "id": "JegAlD5e89pr",
        "colab_type": "code",
        "colab": {}
      },
      "source": [
        "PATH = './cifar_net.pth'\n",
        "torch.save(net.state_dict(),PATH)"
      ],
      "execution_count": 0,
      "outputs": []
    },
    {
      "cell_type": "markdown",
      "metadata": {
        "id": "weUt1-Q2-tBM",
        "colab_type": "text"
      },
      "source": [
        "PROBANDO LA RED CON LOS DATOS DE PRUEBA"
      ]
    },
    {
      "cell_type": "code",
      "metadata": {
        "id": "0QZD_VJm-oDq",
        "colab_type": "code",
        "outputId": "51872777-8d23-42fc-bc53-9d9f80bdde3f",
        "colab": {
          "base_uri": "https://localhost:8080/",
          "height": 155
        }
      },
      "source": [
        "dataiter = iter(testloader)\n",
        "images, labels = dataiter.next()\n",
        "\n",
        "#Imprime las imágenes\n",
        "imshow(torchvision.utils.make_grid(images))\n",
        "print('Aciertos: ', ' '.join('%5s' % classes[labels[j]] for j in range(4)))"
      ],
      "execution_count": 0,
      "outputs": [
        {
          "output_type": "display_data",
          "data": {
            "image/png": "[encoded data removed]",
            "text/plain": [
              "<Figure size 432x288 with 1 Axes>"
            ]
          },
          "metadata": {
            "tags": []
          }
        },
        {
          "output_type": "stream",
          "text": [
            "Aciertos:   gato barco barco Avión\n"
          ],
          "name": "stdout"
        }
      ]
    },
    {
      "cell_type": "markdown",
      "metadata": {
        "id": "9NSUwddEB4Ve",
        "colab_type": "text"
      },
      "source": [
        "CARGAMOS EL MODELO SALVADO ANTERIORMENTE"
      ]
    },
    {
      "cell_type": "code",
      "metadata": {
        "id": "dpmkY6BXA6wD",
        "colab_type": "code",
        "outputId": "2ff52f7c-e40a-4110-8c48-d24a48184a8a",
        "colab": {
          "base_uri": "https://localhost:8080/",
          "height": 34
        }
      },
      "source": [
        "net = Net()\n",
        "net.load_state_dict(torch.load(PATH))"
      ],
      "execution_count": 0,
      "outputs": [
        {
          "output_type": "execute_result",
          "data": {
            "text/plain": [
              "<All keys matched successfully>"
            ]
          },
          "metadata": {
            "tags": []
          },
          "execution_count": 16
        }
      ]
    },
    {
      "cell_type": "code",
      "metadata": {
        "id": "l0qF1RMbCEIa",
        "colab_type": "code",
        "colab": {}
      },
      "source": [
        "outputs = net(images)"
      ],
      "execution_count": 0,
      "outputs": []
    },
    {
      "cell_type": "code",
      "metadata": {
        "id": "3m6irLmFCMGG",
        "colab_type": "code",
        "outputId": "557597a3-1b6b-4e24-b184-ef181136b2f9",
        "colab": {
          "base_uri": "https://localhost:8080/",
          "height": 34
        }
      },
      "source": [
        "_, predicted = torch.max(outputs, 1)\n",
        "\n",
        "print('Predichos: ', ' '.join('%5s' % classes[predicted[j]]\n",
        "                              for j in range(4)))"
      ],
      "execution_count": 0,
      "outputs": [
        {
          "output_type": "stream",
          "text": [
            "Predichos:   gato barco  auto Avión\n"
          ],
          "name": "stdout"
        }
      ]
    },
    {
      "cell_type": "code",
      "metadata": {
        "id": "7v8T3MwLC0vD",
        "colab_type": "code",
        "outputId": "aee70ed1-a7be-43f7-e54d-735073008adc",
        "colab": {
          "base_uri": "https://localhost:8080/",
          "height": 34
        }
      },
      "source": [
        "correct = 0\n",
        "total = 0\n",
        "with torch.no_grad():\n",
        "  for data in testloader:\n",
        "    images, labels = data\n",
        "    outputs = net(images)\n",
        "    _, predicted = torch.max(outputs.data, 1)\n",
        "    total += labels.size(0)\n",
        "    correct += (predicted == labels).sum().item()\n",
        "\n",
        "print('Certeza de la red neuronal en las 10000 imágenes de prueba: %d %%' % (\n",
        "    100*correct/total\n",
        "))"
      ],
      "execution_count": 0,
      "outputs": [
        {
          "output_type": "stream",
          "text": [
            "Certeza de la red neuronal en las 10000 imágenes de prueba: 54 %\n"
          ],
          "name": "stdout"
        }
      ]
    },
    {
      "cell_type": "code",
      "metadata": {
        "id": "XnQecViiD-RZ",
        "colab_type": "code",
        "outputId": "fbca6f91-6f08-43a3-8bff-e415cf561eee",
        "colab": {
          "base_uri": "https://localhost:8080/",
          "height": 187
        }
      },
      "source": [
        "class_correct = list(0. for i in range(10))\n",
        "class_total = list(0. for i in range(10))\n",
        "with torch.no_grad():\n",
        "  for data in testloader:\n",
        "    images, labels = data\n",
        "    outputs = net(images)\n",
        "    _, predicted = torch.max(outputs, 1)\n",
        "    c = (predicted == labels).squeeze()\n",
        "    for i in range(4):\n",
        "      label = labels[i]\n",
        "      class_correct[label] += c[i].item()\n",
        "      class_total[label] += 1\n",
        "\n",
        "\n",
        "for i in range(10):\n",
        "  print('Certeza de %5s : %2d %%' % (\n",
        "      classes[i], 100 * class_correct[i] / class_total[i]\n",
        "  ))"
      ],
      "execution_count": 0,
      "outputs": [
        {
          "output_type": "stream",
          "text": [
            "Certeza de Avión : 61 %\n",
            "Certeza de  auto : 56 %\n",
            "Certeza de pajaro : 21 %\n",
            "Certeza de  gato : 39 %\n",
            "Certeza de venado : 34 %\n",
            "Certeza de perro : 53 %\n",
            "Certeza de  rana : 74 %\n",
            "Certeza de caballo : 59 %\n",
            "Certeza de barco : 68 %\n",
            "Certeza de camioneta : 72 %\n"
          ],
          "name": "stdout"
        }
      ]
    },
    {
      "cell_type": "code",
      "metadata": {
        "id": "9La4l6UPFiRU",
        "colab_type": "code",
        "colab": {}
      },
      "source": [
        ""
      ],
      "execution_count": 0,
      "outputs": []
    }
  ]
}